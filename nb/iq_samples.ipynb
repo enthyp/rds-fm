{
 "cells": [
  {
   "cell_type": "code",
   "execution_count": 1,
   "metadata": {},
   "outputs": [],
   "source": [
    "import numpy as np\n",
    "import matplotlib.pyplot as plt\n",
    "from scipy import signal\n",
    "from scipy.fftpack import fftshift\n",
    "from scipy.io import wavfile"
   ]
  },
  {
   "cell_type": "code",
   "execution_count": 2,
   "metadata": {},
   "outputs": [],
   "source": [
    "with open('./data/iq', 'rb') as input_file:\n",
    "    data = np.fromfile(input_file, dtype=np.int16)"
   ]
  },
  {
   "cell_type": "code",
   "execution_count": 3,
   "metadata": {},
   "outputs": [],
   "source": [
    "data = np.reshape(data, (-1, 2))\n",
    "iq_samples = data[:, 0] + 1j * data[:, 1]"
   ]
  },
  {
   "cell_type": "markdown",
   "metadata": {},
   "source": [
    "### Compute Welch estimate without detrending."
   ]
  },
  {
   "cell_type": "code",
   "execution_count": 4,
   "metadata": {},
   "outputs": [
    {
     "name": "stderr",
     "output_type": "stream",
     "text": [
      "/home/jlanecki/miniconda3/envs/pogoda-env/lib/python3.6/site-packages/scipy/signal/spectral.py:1623: UserWarning: Input data is complex, switching to return_onesided=False\n",
      "  warnings.warn('Input data is complex, switching to '\n"
     ]
    },
    {
     "data": {
      "text/plain": [
       "(-1200.0, 1200.0)"
      ]
     },
     "execution_count": 4,
     "metadata": {},
     "output_type": "execute_result"
    },
    {
     "data": {
      "image/png": "[encoded data removed]",
      "text/plain": [
       "<Figure size 432x288 with 1 Axes>"
      ]
     },
     "metadata": {
      "needs_background": "light"
     },
     "output_type": "display_data"
    }
   ],
   "source": [
    "sample_rate = 2400000\n",
    "\n",
    "f, Pxx = signal.welch(iq_samples, sample_rate, detrend=lambda x: x)\n",
    "f, Pxx = fftshift(f), fftshift(Pxx)\n",
    "\n",
    "plt.semilogy(f/1e3, Pxx)\n",
    "plt.xlabel('f [kHz]')\n",
    "plt.ylabel('PSD [Power/Hz]')\n",
    "plt.grid()\n",
    "\n",
    "plt.xticks(np.linspace(-sample_rate/2e3, sample_rate/2e3, 7))\n",
    "plt.xlim(-sample_rate/2e3, sample_rate/2e3)"
   ]
  },
  {
   "cell_type": "markdown",
   "metadata": {},
   "source": [
    "### Decimation with Butterworth filter."
   ]
  },
  {
   "cell_type": "code",
   "execution_count": 5,
   "metadata": {},
   "outputs": [
    {
     "name": "stderr",
     "output_type": "stream",
     "text": [
      "/home/jlanecki/miniconda3/envs/pogoda-env/lib/python3.6/site-packages/scipy/signal/_arraytools.py:45: FutureWarning: Using a non-tuple sequence for multidimensional indexing is deprecated; use `arr[tuple(seq)]` instead of `arr[seq]`. In the future this will be interpreted as an array index, `arr[np.array(seq)]`, which will result either in an error or a different result.\n",
      "  b = a[a_slice]\n",
      "/home/jlanecki/miniconda3/envs/pogoda-env/lib/python3.6/site-packages/scipy/signal/signaltools.py:3463: FutureWarning: Using a non-tuple sequence for multidimensional indexing is deprecated; use `arr[tuple(seq)]` instead of `arr[seq]`. In the future this will be interpreted as an array index, `arr[np.array(seq)]`, which will result either in an error or a different result.\n",
      "  return y[sl]\n"
     ]
    }
   ],
   "source": [
    "sample_rate_fm = 240000  # decimate by 10\n",
    "iq_comercial = signal.decimate(iq_samples, sample_rate // sample_rate_fm)"
   ]
  },
  {
   "cell_type": "markdown",
   "metadata": {},
   "source": [
    "### Demodulate.\n",
    "Calculate angle - modulated signal phase, then estimate the derivative, which - up to a constant - is the modulating signal."
   ]
  },
  {
   "cell_type": "code",
   "execution_count": 6,
   "metadata": {},
   "outputs": [],
   "source": [
    "angle_comercial = np.unwrap(np.angle(iq_comercial))\n",
    "demodulated_comercial = np.diff(angle_comercial)"
   ]
  },
  {
   "cell_type": "markdown",
   "metadata": {},
   "source": [
    "Decimate again to 48kHz."
   ]
  },
  {
   "cell_type": "code",
   "execution_count": 7,
   "metadata": {},
   "outputs": [
    {
     "name": "stderr",
     "output_type": "stream",
     "text": [
      "/home/jlanecki/miniconda3/envs/pogoda-env/lib/python3.6/site-packages/scipy/signal/_arraytools.py:45: FutureWarning: Using a non-tuple sequence for multidimensional indexing is deprecated; use `arr[tuple(seq)]` instead of `arr[seq]`. In the future this will be interpreted as an array index, `arr[np.array(seq)]`, which will result either in an error or a different result.\n",
      "  b = a[a_slice]\n",
      "/home/jlanecki/miniconda3/envs/pogoda-env/lib/python3.6/site-packages/scipy/signal/signaltools.py:3463: FutureWarning: Using a non-tuple sequence for multidimensional indexing is deprecated; use `arr[tuple(seq)]` instead of `arr[seq]`. In the future this will be interpreted as an array index, `arr[np.array(seq)]`, which will result either in an error or a different result.\n",
      "  return y[sl]\n"
     ]
    }
   ],
   "source": [
    "audio_rate = 48000\n",
    "audio_comercial = signal.decimate(demodulated_comercial, sample_rate_fm // audio_rate, zero_phase=True)"
   ]
  },
  {
   "cell_type": "code",
   "execution_count": 8,
   "metadata": {},
   "outputs": [],
   "source": [
    "audio_comercial = np.int16(1e4*audio_comercial)\n",
    "wavfile.write(\"target.wav\", rate=audio_rate, data=audio_comercial)"
   ]
  },
  {
   "cell_type": "markdown",
   "metadata": {},
   "source": [
    "## Now we want to demodulate it in a simplest possible manner."
   ]
  },
  {
   "cell_type": "markdown",
   "metadata": {},
   "source": [
    "Square window (boxcar) for a low pass filter. Baseband delay demodulation. Plain downsampling after demodulation."
   ]
  },
  {
   "cell_type": "code",
   "execution_count": 9,
   "metadata": {},
   "outputs": [],
   "source": [
    "sample_rate_fm = 240000  # decimate by 10\n",
    "audio_rate = 48000\n",
    "\n",
    "def decimate(samples, M):\n",
    "    lp_len = samples.shape[0] // M\n",
    "    lp_samples = np.empty(shape=(lp_len, ), dtype=samples.dtype)\n",
    "    \n",
    "    for i in range(lp_len):\n",
    "        lp_samples[i] = samples[(i + 1) * M - 4: (i + 1) * M].sum()\n",
    "        \n",
    "    return lp_samples\n",
    "\n",
    "iq_decimated = decimate(iq_samples, sample_rate // sample_rate_fm)"
   ]
  },
  {
   "cell_type": "code",
   "execution_count": 10,
   "metadata": {},
   "outputs": [],
   "source": [
    "def demodulate(samples):\n",
    "    dm_samples = np.empty(shape=(len(samples) - 1, ))\n",
    "    \n",
    "    for i in range(len(dm_samples)):\n",
    "        angle_c = np.arctan2(samples[i + 1].real, samples[i + 1].imag)\n",
    "        angle_p = np.arctan2(samples[i].real, samples[i].imag)\n",
    "        dm_samples[i] = angle_c - angle_p\n",
    "    \n",
    "    return dm_samples"
   ]
  },
  {
   "cell_type": "code",
   "execution_count": 11,
   "metadata": {},
   "outputs": [],
   "source": [
    "demodulated = demodulate(iq_decimated)\n",
    "\n",
    "audio = demodulated[::5]\n",
    "audio = np.int16(1e4 * audio)\n",
    "wavfile.write(\"boxcar.wav\", rate=audio_rate, data=audio)"
   ]
  }
 ],
 "metadata": {
  "kernelspec": {
   "display_name": "Python [conda env:pogoda-env]",
   "language": "python",
   "name": "conda-env-pogoda-env-py"
  },
  "language_info": {
   "codemirror_mode": {
    "name": "ipython",
    "version": 3
   },
   "file_extension": ".py",
   "mimetype": "text/x-python",
   "name": "python",
   "nbconvert_exporter": "python",
   "pygments_lexer": "ipython3",
   "version": "3.6.8"
  }
 },
 "nbformat": 4,
 "nbformat_minor": 2
}
